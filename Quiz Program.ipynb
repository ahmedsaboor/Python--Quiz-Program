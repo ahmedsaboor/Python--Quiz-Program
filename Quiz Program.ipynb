{
 "cells": [
  {
   "cell_type": "markdown",
   "metadata": {},
   "source": [
    "# Assignment 5-1"
   ]
  },
  {
   "cell_type": "code",
   "execution_count": null,
   "metadata": {},
   "outputs": [],
   "source": [
    "\n"
   ]
  },
  {
   "cell_type": "code",
   "execution_count": 3,
   "metadata": {},
   "outputs": [
    {
     "name": "stdin",
     "output_type": "stream",
     "text": [
      "What is Your Full Name? Hamza Ahmad\n",
      "What is capital of New York: A) Manhattan B)Brooklyn C) Long Island D) Albany D\n"
     ]
    },
    {
     "name": "stdout",
     "output_type": "stream",
     "text": [
      "Correct\n"
     ]
    },
    {
     "name": "stdin",
     "output_type": "stream",
     "text": [
      "What is Your School's Name A) CUNY B)Hunter C) Baruch D)NYC C\n"
     ]
    },
    {
     "name": "stdout",
     "output_type": "stream",
     "text": [
      "Correct\n"
     ]
    },
    {
     "name": "stdin",
     "output_type": "stream",
     "text": [
      "What is the name of your planet A)Pluto B)Sun C)Earth D)JUpiter C\n"
     ]
    },
    {
     "name": "stdout",
     "output_type": "stream",
     "text": [
      "Correct\n"
     ]
    },
    {
     "name": "stdin",
     "output_type": "stream",
     "text": [
      "What is 9 x 3: A)12 B)27 C)36 D)64  B\n"
     ]
    },
    {
     "name": "stdout",
     "output_type": "stream",
     "text": [
      "Correct\n"
     ]
    },
    {
     "name": "stdin",
     "output_type": "stream",
     "text": [
      "Who is the 45th President of USA A)Obama B)Trump C)Hillary D)Biden B\n"
     ]
    },
    {
     "name": "stdout",
     "output_type": "stream",
     "text": [
      "Correct\n"
     ]
    },
    {
     "name": "stdin",
     "output_type": "stream",
     "text": [
      "What is 2 + 2: A)1 B)22 C)3 D)4 D\n"
     ]
    },
    {
     "name": "stdout",
     "output_type": "stream",
     "text": [
      "Correct\n"
     ]
    },
    {
     "name": "stdin",
     "output_type": "stream",
     "text": [
      "Who is Best Professor: A) Payne B) Olisa C)David D)John B\n"
     ]
    },
    {
     "name": "stdout",
     "output_type": "stream",
     "text": [
      "Correct\n"
     ]
    },
    {
     "name": "stdin",
     "output_type": "stream",
     "text": [
      "What Month are we In: A) August B) September C)October D) December C\n"
     ]
    },
    {
     "name": "stdout",
     "output_type": "stream",
     "text": [
      "Correct\n"
     ]
    },
    {
     "name": "stdin",
     "output_type": "stream",
     "text": [
      "Color of Paper: A)White B)Black C)Gold D)Brown A\n"
     ]
    },
    {
     "name": "stdout",
     "output_type": "stream",
     "text": [
      "Correct\n"
     ]
    },
    {
     "name": "stdin",
     "output_type": "stream",
     "text": [
      "What is 1 + 1: A)11 B)2 C)34 D)89 B\n"
     ]
    },
    {
     "name": "stdout",
     "output_type": "stream",
     "text": [
      "Correct\n",
      "A+\n"
     ]
    }
   ],
   "source": [
    "hw6 = open('hw6.txt','a')\n",
    "name = input(\"What is Your Full Name?\")\n",
    "hw6.write(name + \"\\n\")\n",
    "hw6.close()\n",
    "hw6 = open('hw6.txt','r')\n",
    "gameFile = open('gamefile.txt','w')\n",
    "score = 0\n",
    "q1 = input(\"What is capital of New York: A) Manhattan B)Brooklyn C) Long Island D) Albany\")\n",
    "\n",
    "count = 1\n",
    "for h1 in hw6:\n",
    "    if count == 1:\n",
    "        sp1 = h1\n",
    "    count+=1\n",
    "hw6.close\n",
    "if q1 == sp1.rstrip():\n",
    "    print(\"Correct\")\n",
    "    score = score + 10\n",
    "if q1 != sp1.rstrip():\n",
    "    print(\"Incorrect\")\n",
    "gameFile.write(\"1.\"+ q1 + \"\\n\")\n",
    "hw6.close()\n",
    "\n",
    "hw6 = open('hw6.txt','r')\n",
    "q2 = input(\"What is Your School's Name A) CUNY B)Hunter C) Baruch D)NYC\")\n",
    "count = 1\n",
    "for h2 in hw6:\n",
    "    if count == 2:\n",
    "        sp2 = h2\n",
    "    count+=1\n",
    "hw6.close()\n",
    "hw6 = open('hw6.txt','r')\n",
    "if q2 == sp2.rstrip():\n",
    "    print(\"Correct\")\n",
    "    score = score + 10\n",
    "if q2 != sp2.rstrip():\n",
    "    print(\"Incorrect\")\n",
    "gameFile.write(\"2.\"+ q2 + \"\\n\")\n",
    "\n",
    "hw6 = open('hw6.txt','r')\n",
    "q3 = input(\"What is the name of your planet A)Pluto B)Sun C)Earth D)JUpiter\")\n",
    "count = 1\n",
    "for h3 in hw6:\n",
    "    if count == 3:\n",
    "        sp3 = h3\n",
    "    count+=1\n",
    "hw6.close()\n",
    "hw6 = open('hw6.txt','r')\n",
    "if q3 == sp3.rstrip():\n",
    "    print(\"Correct\")\n",
    "    score = score + 10\n",
    "if q3 != sp3.rstrip():\n",
    "    print(\"Incorrect\")\n",
    "gameFile.write(\"3.\" + q3 + \"\\n\")\n",
    "\n",
    "hw6 = open('hw6.txt','r')\n",
    "q4 = input(\"What is 9 x 3: A)12 B)27 C)36 D)64 \")\n",
    "count = 1\n",
    "for h4 in hw6:\n",
    "    if count == 4:\n",
    "        sp4 = h4\n",
    "    count+=1\n",
    "hw6.close()\n",
    "if q4 == sp4.rstrip():\n",
    "    print(\"Correct\")\n",
    "    score = score + 10\n",
    "if q4 != sp4.rstrip():\n",
    "    print(\"Incorrect\")\n",
    "gameFile.write(\"4.\"+ q4 + \"\\n\")\n",
    "\n",
    "hw6 = open('hw6.txt','r')\n",
    "q5 = input(\"Who is the 45th President of USA A)Obama B)Trump C)Hillary D)Biden\")\n",
    "count = 1\n",
    "for h5 in hw6:\n",
    "    if count == 5:\n",
    "        sp5 = h5\n",
    "    count+=1\n",
    "hw6.close()\n",
    "hw6 = open('hw6.txt','r')\n",
    "if q5 == sp5.rstrip():\n",
    "    print(\"Correct\")\n",
    "    score = score + 10\n",
    "if q5 != sp5.rstrip():\n",
    "    print(\"Incorrect\")\n",
    "gameFile.write(\"5.\"+ q5 + \"\\n\")\n",
    "\n",
    "hw6 = open('hw6.txt','r')\n",
    "q6 = input(\"What is 2 + 2: A)1 B)22 C)3 D)4\")\n",
    "count = 1\n",
    "for h6 in hw6:\n",
    "    if count == 6:\n",
    "        sp6= h6\n",
    "    count+=1\n",
    "hw6.close()\n",
    "hw6 = open('hw6.txt','r')\n",
    "if q6 == sp6.rstrip():\n",
    "    print(\"Correct\")\n",
    "    score = score + 10\n",
    "if q6 != sp6.rstrip():\n",
    "    print(\"Incorrect\")\n",
    "gameFile.write(\"6.\"+ q6 + \"\\n\")\n",
    "\n",
    "hw6 = open('hw6.txt','r')\n",
    "count = 1\n",
    "for h7 in hw6:\n",
    "    if count == 7:\n",
    "        sp7= h7\n",
    "    count+=1\n",
    "hw6.close()\n",
    "q7 = input(\"Who is Best Professor: A) Payne B) Olisa C)David D)John\")\n",
    "if q7 == sp7.rstrip():\n",
    "    print(\"Correct\")\n",
    "    score = score + 10\n",
    "if q7 != sp7.rstrip():\n",
    "    print(\"Incorrect\")\n",
    "gameFile.write(\"7.\"+ q7 + \"\\n\")\n",
    "\n",
    "hw6 = open('hw6.txt','r')\n",
    "q8 = input(\"What Month are we In: A) August B) September C)October D) December\")\n",
    "count = 1\n",
    "for h8 in hw6:\n",
    "    if count == 8:\n",
    "        sp8= h8\n",
    "    count+=1\n",
    "hw6.close()\n",
    "hw6 = open('hw6.txt','r')\n",
    "if q8 == sp8.rstrip():\n",
    "    print(\"Correct\")\n",
    "    score = score + 10\n",
    "if q8 != sp8.rstrip():\n",
    "    print(\"Incorrect\")\n",
    "gameFile.write(\"8.\"+ q8 + \"\\n\")\n",
    "\n",
    "hw6 = open('hw6.txt','r')\n",
    "q9 = input(\"Color of Paper: A)White B)Black C)Gold D)Brown\")\n",
    "count = 1\n",
    "for h9 in hw6:\n",
    "    if count == 9:\n",
    "        sp9= h9\n",
    "    count+=1\n",
    "hw6.close()\n",
    "if q9 ==sp9.rstrip():\n",
    "    print(\"Correct\")\n",
    "    score = score + 10\n",
    "if q9 != sp9.rstrip():\n",
    "    print(\"Incorrect\")\n",
    "gameFile.write(\"9.\"+ q9 + \"\\n\")\n",
    "\n",
    "hw6 = open('hw6.txt','r')\n",
    "q10 = input(\"What is 1 + 1: A)11 B)2 C)34 D)89\")\n",
    "count = 1\n",
    "for h10 in hw6:\n",
    "    if count == 10:\n",
    "        sp10 = h10\n",
    "    count+=1\n",
    "hw6.close()\n",
    "if q10 == sp10.rstrip():\n",
    "    print(\"Correct\")\n",
    "    score = score + 10\n",
    "if q10 != sp10.rstrip():\n",
    "    print(\"Incorrect\")\n",
    "gameFile.write(\"10.\"+ q10 + \"\\n\")\n",
    "\n",
    "\n",
    "if score in range(95,101):\n",
    "    print(\"A+\")\n",
    "if score in range(90,95):\n",
    "    print(\"A\")\n",
    "if score in range(85,90):\n",
    "    print(\"B+\")\n",
    "if score in range(80,85):\n",
    "    print(\"B\")\n",
    "if score in range(75,80):\n",
    "    print(\"C+\")\n",
    "if score in range(70,75):\n",
    "    print(\"C\")\n",
    "if score in range(65,70):\n",
    "    print(\"D+\")\n",
    "if score in range(60,65):\n",
    "    print(\"D\")\n",
    "if score in range(0,60):\n",
    "    print(\"F\")\n",
    "\n",
    "gameFile.write(name+\"\\n\")\n",
    "gameFile.close()\n",
    "#I DON'T KNOW WHERE TO CONCATENATE HE SCORE AS A STRING."
   ]
  },
  {
   "cell_type": "code",
   "execution_count": 28,
   "metadata": {},
   "outputs": [
    {
     "name": "stdin",
     "output_type": "stream",
     "text": [
      "What is Your School's Name A) CUNY B)Hunter C) Baruch D)NYC C\n"
     ]
    },
    {
     "name": "stdout",
     "output_type": "stream",
     "text": [
      "Correct\n"
     ]
    },
    {
     "data": {
      "text/plain": [
       "4"
      ]
     },
     "execution_count": 28,
     "metadata": {},
     "output_type": "execute_result"
    }
   ],
   "source": []
  },
  {
   "cell_type": "code",
   "execution_count": 46,
   "metadata": {},
   "outputs": [
    {
     "name": "stdin",
     "output_type": "stream",
     "text": [
      "What is 1 + 1: A)11 B)2 C)34 D)89 B\n"
     ]
    },
    {
     "name": "stdout",
     "output_type": "stream",
     "text": [
      "Correct\n"
     ]
    },
    {
     "data": {
      "text/plain": [
       "5"
      ]
     },
     "execution_count": 46,
     "metadata": {},
     "output_type": "execute_result"
    }
   ],
   "source": []
  },
  {
   "cell_type": "code",
   "execution_count": null,
   "metadata": {},
   "outputs": [],
   "source": []
  }
 ],
 "metadata": {
  "kernelspec": {
   "display_name": "Python 3",
   "language": "python",
   "name": "python3"
  },
  "language_info": {
   "codemirror_mode": {
    "name": "ipython",
    "version": 3
   },
   "file_extension": ".py",
   "mimetype": "text/x-python",
   "name": "python",
   "nbconvert_exporter": "python",
   "pygments_lexer": "ipython3",
   "version": "3.8.3"
  }
 },
 "nbformat": 4,
 "nbformat_minor": 4
}
